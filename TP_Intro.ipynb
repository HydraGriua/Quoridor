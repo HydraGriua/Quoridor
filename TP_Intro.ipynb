{
  "nbformat": 4,
  "nbformat_minor": 0,
  "metadata": {
    "colab": {
      "name": "TP-Intro.ipynb",
      "provenance": [],
      "collapsed_sections": []
    },
    "kernelspec": {
      "name": "python3",
      "display_name": "Python 3"
    }
  },
  "cells": [
    {
      "cell_type": "markdown",
      "metadata": {
        "id": "66oZKouN5e_s",
        "colab_type": "text"
      },
      "source": [
        "\n",
        "# Introducción\n",
        "Para el curso de Complejidad Algorítmica, que está dirigido para los alumnos de Ciencias de la computación e Ingeniería de software se nos encargó desarrollar  Quoridor, el cual es un juego de mesa creado en el año 1997.\n",
        "\n",
        " Las mecánicas del juego constan en una cuadrícula estándar 9 x 9 en la que cada jugador , por turno, tiene la capacidad de mover a su peón y/o de colocar bloques que impiden lograr el objetivo, llegar hacia el otro lado del tablero. El trabajo será desarrollado con el lenguaje python en la aplicación Jupyter Notebook.\n",
        "\n",
        "Nuestro grupo está integrado por 3 alumnos de la carrera de ingeniería de Software, Brandon Gomes, Lino Mac Kay , Flavio Saavedra \n",
        "El link del repositorio es:  https://github.com/HydraGriua/Quoridor\n",
        "\n",
        "\n",
        "# Estado del arte\n",
        "La gran mayoría de juegos de mesa tienen dentro de sí el concepto de complejidad de estado de juego, cuyo valor se representa como número de posiciones legales en las que se puede actuar a partir de la posición inicial. Otro concepto es el árbol de juego, cuyo tamaño es dado por el número total de juegos posibles, cada hoja representa uno de los posibles movimientos a partir de la posición inicial. El árbol de juego suele tener un valor mucho mayor a la complejidad del estado de juego.\n",
        "\n",
        "El reto del juego Quoridor se basa en la búsqueda de caminos (pathfinding), la cual a su vez está relacionado con la Inteligencia Artificial.\n",
        "Ambos temas han sido estudiados desde años y la exhaustiva investigación nos llevó varios pasos adelante en el mundo de la automatización y uso de nuevas tecnologías. Para encontrar la solución a este reto, es necesario revisar los conceptos fundamentales y las investigaciones mencionadas.\n",
        "Como soluciones para el reto decidimos utilizar diferentes algoritmos de pathfinding.\n",
        "\n",
        "En primer lugar tenemos a **DFS** (Depth first search), este algoritmo de búsqueda no informada es utilizada principalmente en grafos o árboles. El algoritmo comienza desde el nodo principal y va explorando nodo tras nodo tan lejos como sea posible hasta llegar al nodo objetivo. Las característica de DFS es que no se basa en pesos, por ende no te garantiza encontrar el camino más corto. \n",
        "\n",
        "En segundo lugar **BFS** (Breadth first search),este algoritmo,como DFS, también está enfocada principalmente en grafos o árboles. Este algoritmo, en base a los nodos vecinos del nodo principal evalúa el camino más corto, en caso de que el camino actual no sea el más corto, utiliza backtracking para regresar al nodo padre y continuar la búsqueda con más prioridad.\n",
        "\n",
        "Otro de los algoritmos para la búsqueda de caminos eficientes es el algoritmo de **Dijkstra**. En este algoritmo se considera un nodo origen y otro nodo destino, y entre ambos existen diversos nodos. Para viajar a través de los nodos existen caminos con “pesos” - los cuales pueden representar tiempo, costo, etc. Entonces, este algoritmo analiza los caminos con menor peso para llegar hacia un destino en específico. Sus principales aplicaciones se presentan en el campo de la telemática.\n",
        "Por otra parte, el propio estudio de tales algoritmos puede resultar en variaciones con mayor efectividad. Tal es el caso del algoritmo A* (una variante de de Dijkstra)\n",
        "\n",
        "**Dijkstra**\n",
        "\n",
        "![picture](https://drive.google.com/uc?export=view&id=1X_Gbl3Q9ZroSMpoI1Q-yhZpkSL36y_yy)\n",
        "\n",
        "**A***\n",
        "\n",
        "![picture](https://drive.google.com/uc?export=view&id=1Diu-3RWvDSho3JBJAyhfejgvQU0neW0q)\n",
        "\n",
        "**DFS**\n",
        "\n",
        "![picture](https://drive.google.com/uc?export=view&id=15_md6_flFo5D71296SJn6JmcNQSWcpe1)\n",
        "\n",
        "**BFS**\n",
        "\n",
        "![picture](https://drive.google.com/uc?export=view&id=1niMkm_kiFRvuzrd1fm-skuUdtFE6IRYP)\n",
        "\n",
        "\n",
        "\n",
        "\n",
        "# Metodología\n",
        "Para el curso de Complejidad algorítmica, en primer lugar decidimos, ver la complejidad algorítmica de cada uno de los algoritmos mencionados previamente. \n",
        "Además, utilizamos diferentes herramientas que permiten ver el trabajo que realiza cada uno de estos algoritmos como “PathFinder Visualizer” (https://clementmihailescu.github.io/Pathfinding-Visualizer/#), esto nos facilitó la comparación visual entre estos.\n",
        "Como interfaz gráfica se usará el módulo Pygame. Lo primero por definir es el tablero del juego, esto se realizará a través de una matriz de N * N, luego de ello se define las posiciones iniciales de los jugadores, para después aplicar los algoritmos de búsqueda de caminos.\n",
        "\n",
        "![picture](https://drive.google.com/uc?export=view&id=1eqL2bN0CrvpYSlyJIM1hSA5-NImHPiK1)\n"
      ]
    },
    {
      "cell_type": "code",
      "metadata": {
        "id": "T1tgyieLX191",
        "colab_type": "code",
        "colab": {}
      },
      "source": [
        ""
      ],
      "execution_count": null,
      "outputs": []
    }
  ]
}